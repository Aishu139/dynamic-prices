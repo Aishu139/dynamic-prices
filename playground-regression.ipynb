{
 "cells": [
  {
   "cell_type": "code",
   "execution_count": 70,
   "metadata": {
    "collapsed": true
   },
   "outputs": [],
   "source": [
    "%matplotlib inline\n",
    "\n",
    "import matplotlib\n",
    "import numpy as np\n",
    "import matplotlib.pyplot as plt\n",
    "from sklearn import linear_model"
   ]
  },
  {
   "cell_type": "code",
   "execution_count": 74,
   "metadata": {
    "collapsed": false
   },
   "outputs": [],
   "source": [
    "def rank(a, p):\n",
    "    return np.argsort(np.hstack((a, p)))[:,0]\n",
    "\n",
    "a = np.random.uniform(0, 20, (10000, 1))\n",
    "p = np.random.uniform(0, 20, (10000, 5))\n",
    "r = np.reshape(rank(a, p), (10000, 1))\n",
    "x1 = np.hstack((a, p, r))\n",
    "y1 = (r == 0).astype(int).ravel()\n"
   ]
  },
  {
   "cell_type": "code",
   "execution_count": 75,
   "metadata": {
    "collapsed": false
   },
   "outputs": [
    {
     "data": {
      "text/plain": [
       "LogisticRegression(C=1.0, class_weight=None, dual=False, fit_intercept=True,\n",
       "          intercept_scaling=1, max_iter=100, multi_class='ovr',\n",
       "          penalty='l2', random_state=None, solver='liblinear', tol=0.0001,\n",
       "          verbose=0)"
      ]
     },
     "execution_count": 75,
     "metadata": {},
     "output_type": "execute_result"
    }
   ],
   "source": [
    "regr = linear_model.LogisticRegression()\n",
    "regr.fit(x1, y1)"
   ]
  },
  {
   "cell_type": "code",
   "execution_count": 81,
   "metadata": {
    "collapsed": false
   },
   "outputs": [
    {
     "data": {
      "image/png": "[encoded data removed]",
      "text/plain": [
       "<matplotlib.figure.Figure at 0x10b01c090>"
      ]
     },
     "metadata": {},
     "output_type": "display_data"
    }
   ],
   "source": [
    "x1_sort = np.sort(x1[0:100,].view('f8,f8,f8,f8,f8,f8,f8'), order=['f6'], axis=0).view(float)\n",
    "plt.scatter(np.arange(0, 100), x1_sort[0:100,6], color='black')\n",
    "plt.plot(np.arange(0, 100), regr.predict_proba(x1_sort[0:100,])[:,1], color='blue', linewidth=1)\n",
    "\n",
    "plt.show()"
   ]
  },
  {
   "cell_type": "code",
   "execution_count": 77,
   "metadata": {
    "collapsed": false
   },
   "outputs": [
    {
     "data": {
      "text/plain": [
       "array([  4.75675425e-04,   5.64676535e-03,   6.16576561e-06,\n",
       "         9.14063806e-06,   3.20723305e-04,   2.68575008e-06,\n",
       "         9.69929962e-03,   1.94460392e-05,   4.22175003e-03,\n",
       "         1.80562785e-02,   1.24980828e-03,   2.69667934e-02,\n",
       "         9.90338481e-01,   9.98069122e-01,   9.94317831e-01,\n",
       "         9.99747879e-01,   9.99996214e-01,   9.99998188e-01,\n",
       "         9.99942095e-01,   9.99999459e-01,   9.99999649e-01,\n",
       "         9.99993566e-01,   9.99990214e-01,   9.99998678e-01,\n",
       "         9.99999864e-01,   9.99990555e-01,   9.98599972e-01,\n",
       "         9.91649943e-01,   9.99842961e-01,   9.99963784e-01,\n",
       "         9.99995335e-01,   9.99999210e-01,   9.99481306e-01,\n",
       "         9.99559483e-01,   9.99991191e-01,   9.99999898e-01,\n",
       "         9.99999962e-01,   9.99999998e-01,   9.99893773e-01,\n",
       "         9.99999631e-01,   9.99999614e-01,   9.99999996e-01,\n",
       "         1.00000000e+00,   9.99999998e-01,   9.99999864e-01,\n",
       "         9.99997151e-01,   9.99999484e-01,   9.99999997e-01,\n",
       "         9.99999814e-01,   9.99999995e-01,   1.00000000e+00,\n",
       "         9.99999981e-01,   9.99999946e-01,   9.99999964e-01,\n",
       "         1.00000000e+00,   9.99999873e-01,   9.99999998e-01,\n",
       "         9.99999995e-01,   1.00000000e+00,   9.99999993e-01,\n",
       "         1.00000000e+00,   1.00000000e+00,   1.00000000e+00,\n",
       "         9.99999999e-01,   1.00000000e+00,   9.99999999e-01,\n",
       "         1.00000000e+00,   1.00000000e+00,   1.00000000e+00,\n",
       "         9.99999987e-01,   9.99999990e-01,   1.00000000e+00,\n",
       "         1.00000000e+00,   1.00000000e+00,   1.00000000e+00,\n",
       "         1.00000000e+00,   1.00000000e+00,   1.00000000e+00,\n",
       "         1.00000000e+00,   1.00000000e+00,   1.00000000e+00,\n",
       "         1.00000000e+00,   1.00000000e+00,   1.00000000e+00,\n",
       "         1.00000000e+00,   1.00000000e+00,   1.00000000e+00,\n",
       "         1.00000000e+00,   1.00000000e+00,   1.00000000e+00,\n",
       "         1.00000000e+00,   1.00000000e+00,   1.00000000e+00,\n",
       "         1.00000000e+00,   1.00000000e+00,   1.00000000e+00,\n",
       "         1.00000000e+00,   1.00000000e+00,   1.00000000e+00,\n",
       "         1.00000000e+00])"
      ]
     },
     "execution_count": 77,
     "metadata": {},
     "output_type": "execute_result"
    }
   ],
   "source": [
    "regr.predict_proba(x1_sort[0:100,])[:,0]"
   ]
  },
  {
   "cell_type": "code",
   "execution_count": null,
   "metadata": {
    "collapsed": true
   },
   "outputs": [],
   "source": []
  }
 ],
 "metadata": {
  "kernelspec": {
   "display_name": "Python 2",
   "language": "python",
   "name": "python2"
  },
  "language_info": {
   "codemirror_mode": {
    "name": "ipython",
    "version": 2
   },
   "file_extension": ".py",
   "mimetype": "text/x-python",
   "name": "python",
   "nbconvert_exporter": "python",
   "pygments_lexer": "ipython2",
   "version": "2.7.10"
  }
 },
 "nbformat": 4,
 "nbformat_minor": 0
}
