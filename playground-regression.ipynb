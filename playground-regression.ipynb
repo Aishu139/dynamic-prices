{
 "cells": [
  {
   "cell_type": "code",
   "execution_count": 36,
   "metadata": {
    "collapsed": false
   },
   "outputs": [],
   "source": [
    "%matplotlib inline\n",
    "import matplotlib\n",
    "import numpy as np\n",
    "import matplotlib.pyplot as plt\n",
    "from sklearn import linear_model\n",
    "from sklearn import svm\n",
    "import functools\n",
    "from scipy.stats import poisson"
   ]
  },
  {
   "cell_type": "code",
   "execution_count": 37,
   "metadata": {
    "collapsed": false
   },
   "outputs": [],
   "source": [
    "# Generate training data for sales probability regression\n",
    "def generate_train_data(B=1000, T=100):\n",
    "\n",
    "    def rank(a, p):\n",
    "        return np.argsort(np.hstack((a, p)))[:,0]\n",
    "    \n",
    "    our_price = 16 + np.random.uniform(0, 4, (B, 1))\n",
    "    competitor_prices = 16 + np.random.uniform(0, 4, (B, 5))\n",
    "    our_rank = np.reshape(rank(our_price, competitor_prices), (B, 1))\n",
    "    X = np.hstack((our_price, competitor_prices, our_rank))\n",
    "    \n",
    "    # Y = (our_rank == 0).astype(int).ravel()\n",
    "    Y = np.maximum(0, (3 - our_rank)).astype(int).ravel()\n",
    "    # Y = np.round(np.random.uniform(0, 1, our_rank.shape) * (1 - our_rank / 11)).ravel()\n",
    "    \n",
    "    return (X, Y)\n",
    "\n",
    "X, Y = generate_train_data()"
   ]
  },
  {
   "cell_type": "code",
   "execution_count": 38,
   "metadata": {
    "collapsed": false
   },
   "outputs": [],
   "source": [
    "# Train sales probability model\n",
    "def make_model(X, Y):\n",
    "    regr = linear_model.LinearRegression()\n",
    "    regr.fit(X, Y)\n",
    "    def predict(x):\n",
    "        return np.maximum(0, regr.predict(x))\n",
    "        # return regr.predict_proba(x)[:, 1]\n",
    "    return predict\n",
    "\n",
    "sales_model = make_model(X, Y)"
   ]
  },
  {
   "cell_type": "code",
   "execution_count": 39,
   "metadata": {
    "collapsed": false
   },
   "outputs": [
    {
     "data": {
      "image/png": "[encoded data removed]",
      "text/plain": [
       "<matplotlib.figure.Figure at 0x109e0e0b8>"
      ]
     },
     "metadata": {},
     "output_type": "display_data"
    }
   ],
   "source": [
    "# Plot sales probability model\n",
    "X_train, _ = generate_train_data(1000)\n",
    "X_sort = np.sort(X_train.view('f8,f8,f8,f8,f8,f8,f8'), order=['f6'], axis=0).view(float)\n",
    "plt.scatter(np.arange(0, X_sort.shape[0]), X_sort[:, 6], color='black')\n",
    "plt.plot(np.arange(0, X_sort.shape[0]), sales_model(X_sort), color='blue', linewidth=1)\n",
    "\n",
    "plt.show()"
   ]
  },
  {
   "cell_type": "code",
   "execution_count": null,
   "metadata": {
    "collapsed": false
   },
   "outputs": [
    {
     "data": {
      "text/plain": [
       "(12.5, 26.115739350900686)"
      ]
     },
     "execution_count": 40,
     "metadata": {},
     "output_type": "execute_result"
    }
   ],
   "source": [
    "class OptimizeOptions():\n",
    "    def __init__(self, sales_model, competitor_prices,\n",
    "               T, N, L, Z, delta, price_range):\n",
    "        self.sales_model = sales_model\n",
    "        self.competitor_prices = competitor_prices\n",
    "        self.T = T\n",
    "        self.N = N\n",
    "        self.L = L\n",
    "        self.Z = Z\n",
    "        self.delta = delta\n",
    "        self.price_range = price_range\n",
    "\n",
    "def optimize_run(t, N, options):\n",
    "    def rank(a, p):\n",
    "        _rank = p.shape[0]\n",
    "        for i in range(p.shape[0]):\n",
    "            if a < p[i]:\n",
    "                _rank = _rank - 1\n",
    "        return _rank\n",
    "\n",
    "    @functools.lru_cache(maxsize=None)\n",
    "    def sales_prob(price, options):\n",
    "        x = np.hstack((price, options.competitor_prices, rank(price, options.competitor_prices))).reshape(1, -1)\n",
    "        return sales_model(x)[0]\n",
    "\n",
    "\n",
    "    @functools.lru_cache(maxsize=None)\n",
    "    def _V(price, t, n, options):\n",
    "        p = sales_prob(price, options)\n",
    "        _sum = 0\n",
    "        for i in range(int(poisson.ppf(0.9999, p)) + 1):\n",
    "            if i > n:\n",
    "                return 0\n",
    "            pi = poisson.pmf(i, p)\n",
    "            today_profit = min(n, i) * price\n",
    "            holding_costs = n * options.L\n",
    "            V_future, _ = V(t + 1, max(0, n - i), options)\n",
    "            exp_future_profits = options.delta * V_future\n",
    "            _sum += pi * (today_profit - holding_costs + exp_future_profits)\n",
    "        return _sum\n",
    "    \n",
    "\n",
    "    @functools.lru_cache(maxsize=None)\n",
    "    def V(t, n, options):\n",
    "        if t >= options.T:\n",
    "            return (n * options.Z, 0)\n",
    "        if n <= 0:\n",
    "            return (0, 0)\n",
    "\n",
    "        V_opt = -100000\n",
    "        price_opt = -100000\n",
    "        for i, price in enumerate(options.price_range):\n",
    "            v = _V(price, t, n, options)\n",
    "            if v > V_opt:\n",
    "                V_opt = v\n",
    "                price_opt = price\n",
    "\n",
    "        return (price_opt, V_opt)\n",
    "\n",
    "    return V(t, N, options)\n",
    "    \n",
    "\n",
    "# Run Bellmann equation to calculate best price\n",
    "def optimize_price(t, sales_model, competitor_prices,\n",
    "               T=5, N=15, \n",
    "               price_range=np.arange(0.1, 20, 0.1), \n",
    "               L=0.01, delta=0.99, Z=0.5):\n",
    "\n",
    "    return optimize_run(t, N, OptimizeOptions(sales_model, competitor_prices,\n",
    "               T, N, L, Z, delta, price_range))\n",
    "\n",
    "optimize_price(0, sales_model, np.random.uniform(0, 20, 5))"
   ]
  },
  {
   "cell_type": "code",
   "execution_count": null,
   "metadata": {
    "collapsed": false
   },
   "outputs": [],
   "source": [
    "def simulation(sales_model, competitor_prices, T=20, N=15):\n",
    "    n = N\n",
    "    \n",
    "    def rank(a, p):\n",
    "        order = np.argsort(np.hstack((a, p)))\n",
    "        ranks = np.argsort(order)\n",
    "        return ranks[0]\n",
    "    \n",
    "    def sales_prob(price):\n",
    "        x = np.hstack((price, competitor_prices, rank(price, competitor_prices))).reshape(1, -1)\n",
    "        return sales_model(x)[0]\n",
    "   \n",
    "    price_history = []\n",
    "    accumulated_sales = []\n",
    "    \n",
    "    profit = 0\n",
    "\n",
    "    for t in range(0, T):\n",
    "        price, V = optimize_price(t, sales_model, competitor_prices, N=n, T=T)\n",
    "        if t == 0:\n",
    "            print(V)\n",
    "        price_history.append(price)\n",
    "        pi = sales_prob(price)\n",
    "        sales = min(n, np.random.poisson(pi))\n",
    "        n = n - sales\n",
    "        profit += price * sales\n",
    "        accumulated_sales.append(N - n)\n",
    "        print(t, n, price, pi, competitor_prices, rank(price, competitor_prices))\n",
    "        # competitor_prices = competitor_prices * np.random.uniform(0.8, 1.2, 5)\n",
    "        \n",
    "    plt.plot(price_history)    \n",
    "    plt.ylabel('Price Path')\n",
    "    plt.show()\n",
    "    \n",
    "    plt.plot(accumulated_sales)    \n",
    "    plt.ylabel('Accumulated Sales')\n",
    "    plt.show()\n",
    "    \n",
    "    print(profit)\n",
    "    return profit\n",
    "\n",
    "simulation(sales_model, np.random.uniform(0, 20, 5))"
   ]
  },
  {
   "cell_type": "code",
   "execution_count": null,
   "metadata": {
    "collapsed": false
   },
   "outputs": [],
   "source": [
    "competitor_prices = np.random.uniform(0, 20, 5)\n",
    "profits = list(map(lambda i: simulation(sales_model, competitor_prices), range(0, 20)))\n",
    "    \n",
    "n, bins, patches = plt.hist(profits, 10, normed=1, facecolor='green', alpha=0.75)\n",
    "\n",
    "plt.xlabel('Profit')\n",
    "plt.ylabel('Probability')\n",
    "plt.show()"
   ]
  },
  {
   "cell_type": "code",
   "execution_count": null,
   "metadata": {
    "collapsed": false
   },
   "outputs": [],
   "source": []
  },
  {
   "cell_type": "code",
   "execution_count": null,
   "metadata": {
    "collapsed": true
   },
   "outputs": [],
   "source": []
  }
 ],
 "metadata": {
  "kernelspec": {
   "display_name": "Python 3",
   "language": "python",
   "name": "python3"
  },
  "language_info": {
   "codemirror_mode": {
    "name": "ipython",
    "version": 3
   },
   "file_extension": ".py",
   "mimetype": "text/x-python",
   "name": "python",
   "nbconvert_exporter": "python",
   "pygments_lexer": "ipython3",
   "version": "3.5.1"
  }
 },
 "nbformat": 4,
 "nbformat_minor": 0
}
