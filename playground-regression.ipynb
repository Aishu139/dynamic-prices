{
 "cells": [
  {
   "cell_type": "code",
   "execution_count": 52,
   "metadata": {
    "collapsed": false
   },
   "outputs": [],
   "source": [
    "%matplotlib inline\n",
    "import matplotlib\n",
    "import numpy as np\n",
    "import matplotlib.pyplot as plt\n",
    "from sklearn.linear_model import LogisticRegression\n",
    "from sklearn import svm\n",
    "import functools\n",
    "from scipy.stats import poisson"
   ]
  },
  {
   "cell_type": "code",
   "execution_count": 53,
   "metadata": {
    "collapsed": false
   },
   "outputs": [],
   "source": [
    "# Generate training data for sales probability regression\n",
    "def generate_train_data(B=1000, T=100):\n",
    "\n",
    "    def rank(a, p):\n",
    "        return np.argsort(np.hstack((a, p)))[:,0]\n",
    "    \n",
    "    our_price = np.random.uniform(0, 20, (B, 1))\n",
    "    competitor_prices = np.random.uniform(0, 20, (B, 5))\n",
    "    our_rank = np.reshape(rank(our_price, competitor_prices), (B, 1))\n",
    "    X = np.hstack((our_price, competitor_prices, our_rank))\n",
    "    \n",
    "    # Y = (our_rank == 0).astype(int).ravel()\n",
    "    # Y = np.maximum(0, (3 - our_rank)).astype(int).ravel()\n",
    "    Y = np.round(np.random.uniform(0, 1, our_rank.shape) * (1 - our_rank / 11)).ravel()\n",
    "    \n",
    "    return (X, Y)\n",
    "\n",
    "X, Y = generate_train_data()"
   ]
  },
  {
   "cell_type": "code",
   "execution_count": 54,
   "metadata": {
    "collapsed": false
   },
   "outputs": [],
   "source": [
    "# Train sales probability model\n",
    "def make_model(X, Y):\n",
    "    regr = LogisticRegression()\n",
    "    regr.fit(X, Y)\n",
    "    def predict(x):\n",
    "        return regr.predict_proba(x)[:, 1]\n",
    "    return predict\n",
    "\n",
    "sales_model = make_model(X, Y)"
   ]
  },
  {
   "cell_type": "code",
   "execution_count": 55,
   "metadata": {
    "collapsed": false
   },
   "outputs": [
    {
     "data": {
      "image/png": "[encoded data removed]",
      "text/plain": [
       "<matplotlib.figure.Figure at 0x10d572e10>"
      ]
     },
     "metadata": {},
     "output_type": "display_data"
    }
   ],
   "source": [
    "# Plot sales probability model\n",
    "X_train, _ = generate_train_data(1000)\n",
    "X_sort = np.sort(X_train.view('f8,f8,f8,f8,f8,f8,f8'), order=['f6'], axis=0).view(float)\n",
    "plt.scatter(np.arange(0, X_sort.shape[0]), X_sort[:, 6], color='black')\n",
    "plt.plot(np.arange(0, X_sort.shape[0]), sales_model(X_sort), color='blue', linewidth=1)\n",
    "\n",
    "plt.show()"
   ]
  },
  {
   "cell_type": "code",
   "execution_count": 56,
   "metadata": {
    "collapsed": false
   },
   "outputs": [
    {
     "data": {
      "text/plain": [
       "(12.1, 16.206014067073873)"
      ]
     },
     "execution_count": 56,
     "metadata": {},
     "output_type": "execute_result"
    }
   ],
   "source": [
    "# Run Bellmann equation to calculate best price\n",
    "def optimize_price(t, sales_model, competitor_prices,\n",
    "               T=5, N=15, \n",
    "               price_range=np.arange(0.1, 20, 0.1), \n",
    "               L=0.01, delta=0.99, Z=0.5):\n",
    "#                price_range=np.arange(0.1, 20, 1), \n",
    "#                L=0.01, delta=0.99, Z=-5):\n",
    "\n",
    "    def rank(a, p):\n",
    "        order = np.argsort(np.hstack((a, p)))\n",
    "        ranks = np.argsort(order)\n",
    "        return ranks[0]\n",
    "\n",
    "    @functools.lru_cache(maxsize=None)\n",
    "    def sales_prob(price):\n",
    "        x = np.hstack((price, competitor_prices, rank(price, competitor_prices))).reshape(1, -1)\n",
    "        return sales_model(x)[0]\n",
    "\n",
    "\n",
    "    @functools.lru_cache(maxsize=None)\n",
    "    def _V(price, t, n):\n",
    "        p = sales_prob(price)\n",
    "        def mapper(i):\n",
    "            if i > n:\n",
    "                return 0\n",
    "            pi = p if i == 1 else 1 - p\n",
    "            # pi = poisson.pmf(i, p)\n",
    "            today_profit = min(n, i) * price\n",
    "            holding_costs = n * L\n",
    "            V_future, _ = V(t + 1, max(0, n - i))\n",
    "            exp_future_profits = delta * V_future\n",
    "            return pi * (today_profit - holding_costs + exp_future_profits)\n",
    "        # i_range = range(0, int(poisson.ppf(0.9999, p)) + 1)\n",
    "        i_range = [0, 1]\n",
    "        return sum([mapper(i) for i in i_range])\n",
    "\n",
    "    def V(t, n):\n",
    "        if t >= T:\n",
    "            return (n * Z, 0)\n",
    "        if n <= 0:\n",
    "            return (0, 0)\n",
    "\n",
    "        V_values = np.zeros(price_range.shape)\n",
    "        for i, price in enumerate(price_range):\n",
    "            v = _V(price, t, n)\n",
    "            V_values[i] = v \n",
    "\n",
    "        V_opt = np.max(V_values)\n",
    "        price_opt = price_range[np.argmax(V_values)]\n",
    "        return (price_opt, V_opt)\n",
    "    \n",
    "    return V(t, N)\n",
    "\n",
    "optimize_price(0, sales_model, np.random.uniform(0, 20, 5))"
   ]
  },
  {
   "cell_type": "code",
   "execution_count": 57,
   "metadata": {
    "collapsed": false
   },
   "outputs": [
    {
     "name": "stdout",
     "output_type": "stream",
     "text": [
      "0 5 19.1 0.133151547732 [ 4.6054856   9.36778658  1.25371561  6.3228863   2.65415697] 5\n",
      "1 5 19.1 0.130490774535 [  4.05446472  10.7736873    1.01312809   6.1625456    2.75593843] 5\n",
      "2 4 19.1 0.126378683533 [  4.16293642  12.76673852   0.9515862    7.05059362   2.90006883] 5\n",
      "3 4 19.1 0.130608001403 [  3.61615295  11.00144542   0.77750325   6.45613249   2.54612684] 5\n",
      "4 4 19.1 0.128994795344 [  3.08035747  11.97740051   0.91072032   6.7159097    2.81954715] 5\n",
      "5 4 19.1 0.130486465921 [  2.76944368  11.4880214    0.875099     5.82318688   3.17252892] 5\n",
      "6 4 19.1 0.123481338261 [  3.1148318   13.51622791   0.90208856   5.09793156   2.57889891] 5\n",
      "7 4 19.1 0.125624709917 [  3.53790527  12.55974626   1.01796341   5.11997817   2.77743235] 5\n",
      "8 4 19.1 0.121969866235 [  4.23804319  13.608982     1.07288597   5.54672748   2.34694676] 5\n",
      "9 2 16.1 0.166527594184 [  4.39173737  16.18599085   1.01708824   5.9267605    1.92760205] 4\n",
      "10 2 14.1 0.163429279654 [  5.21784308  14.86665433   1.11377376   4.82384768   1.84423879] 4\n",
      "11 2 14.1 0.162943850368 [  5.18813599  14.89788279   0.9922894    4.41796002   1.69416863] 4\n",
      "12 2 15.1 0.161757495841 [  5.97641559  15.71558325   1.07176333   3.75158101   1.9740665 ] 4\n",
      "13 2 19.1 0.120659333718 [  6.09579238  12.80745788   1.13866097   3.78308471   2.17077982] 5\n",
      "14 1 1.1 0.511005842538 [  6.17014324  14.92275406   1.26667451   3.94249835   2.3961955 ] 0\n",
      "15 1 19.1 0.11767977079 [  5.43036988  14.37561548   1.20321904   3.79640127   2.37253753] 5\n",
      "16 1 19.1 0.114990866475 [  5.80309968  15.02662801   1.34880709   3.84164608   1.94921867] 5\n",
      "17 1 19.1 0.113592140355 [  5.65491182  15.39379992   1.33477698   3.65763045   1.57849982] 5\n",
      "18 1 19.1 0.111614252752 [  6.20056299  16.01373899   1.45957028   3.22803315   1.81779012] 5\n",
      "19 1 15.1 0.15976121049 [  6.58826911  15.29050994   1.64205954   2.68389024   1.7884972 ] 4\n"
     ]
    },
    {
     "data": {
      "image/png": "[encoded data removed]",
      "text/plain": [
       "<matplotlib.figure.Figure at 0x10dc2e470>"
      ]
     },
     "metadata": {},
     "output_type": "display_data"
    },
    {
     "data": {
      "image/png": "[encoded data removed]",
      "text/plain": [
       "<matplotlib.figure.Figure at 0x1098eacc0>"
      ]
     },
     "metadata": {},
     "output_type": "display_data"
    }
   ],
   "source": [
    "def simulation(sales_model, T=20, N=15):\n",
    "    competitor_prices = np.random.uniform(0, 20, 5)\n",
    "    n = N\n",
    "    \n",
    "    def rank(a, p):\n",
    "        order = np.argsort(np.hstack((a, p)))\n",
    "        ranks = np.argsort(order)\n",
    "        return ranks[0]\n",
    "    \n",
    "    def sales_prob(price):\n",
    "        x = np.hstack((price, competitor_prices, rank(price, competitor_prices))).reshape(1, -1)\n",
    "        return sales_model(x)[0]\n",
    "   \n",
    "    price_history = []\n",
    "    accumulated_sales = []\n",
    "\n",
    "    for t in range(0, T):\n",
    "        price, _ = optimize_price(t, sales_model, competitor_prices, N=n, T=T)\n",
    "        price_history.append(price)\n",
    "        pi = sales_prob(price)\n",
    "        n = max(0, n - np.random.poisson(pi))\n",
    "        accumulated_sales.append(N - n)\n",
    "        print(t, n, price, pi, competitor_prices, rank(price, competitor_prices))\n",
    "        competitor_prices = competitor_prices * np.random.uniform(0.8, 1.2, 5)\n",
    "        \n",
    "    plt.plot(price_history)    \n",
    "    plt.ylabel('Price Path')\n",
    "    plt.show()\n",
    "    \n",
    "    plt.plot(accumulated_sales)    \n",
    "    plt.ylabel('Accumulated Sales')\n",
    "    plt.show()\n",
    "    \n",
    "        \n",
    "            \n",
    "simulation(sales_model)"
   ]
  },
  {
   "cell_type": "code",
   "execution_count": null,
   "metadata": {
    "collapsed": true
   },
   "outputs": [],
   "source": []
  }
 ],
 "metadata": {
  "kernelspec": {
   "display_name": "Python 3",
   "language": "python",
   "name": "python3"
  },
  "language_info": {
   "codemirror_mode": {
    "name": "ipython",
    "version": 3
   },
   "file_extension": ".py",
   "mimetype": "text/x-python",
   "name": "python",
   "nbconvert_exporter": "python",
   "pygments_lexer": "ipython3",
   "version": "3.4.2"
  }
 },
 "nbformat": 4,
 "nbformat_minor": 0
}
