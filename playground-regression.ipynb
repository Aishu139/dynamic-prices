{
 "cells": [
  {
   "cell_type": "code",
   "execution_count": null,
   "metadata": {
    "collapsed": false
   },
   "outputs": [],
   "source": [
    "%matplotlib inline\n",
    "import matplotlib\n",
    "import numpy as np\n",
    "import matplotlib.pyplot as plt\n",
    "from sklearn import linear_model\n",
    "from sklearn import svm\n",
    "from scipy.stats import poisson, binom\n",
    "from cpp.optimize_price import PriceOptimizer as PriceOptimizer_CPP\n",
    "from python.optimize_price import PriceOptimizer as PriceOptimizer_Python\n",
    "import time"
   ]
  },
  {
   "cell_type": "code",
   "execution_count": null,
   "metadata": {
    "collapsed": false
   },
   "outputs": [],
   "source": [
    "# Generate training data for sales probability regression\n",
    "def rank(a, p):\n",
    "    _rank = p.shape[0]\n",
    "    for i in range(p.shape[0]):\n",
    "        if a < p[i]:\n",
    "            _rank = _rank - 1\n",
    "    return _rank\n",
    "\n",
    "def make_X(price, competitor_prices, t):\n",
    "    return np.array([\n",
    "            rank(price, competitor_prices),\n",
    "            price - competitor_prices.min(),\n",
    "            competitor_prices.size,\n",
    "            (price + np.sum(competitor_prices)) / (1 + competitor_prices.size),\n",
    "            t,\n",
    "            t * t\n",
    "        ])\n",
    "\n",
    "def generate_train_data(B=1000, T=30):\n",
    "    our_price = np.around(10 + np.random.uniform(0, 10, (B * T, 1)), decimals=2)\n",
    "    competitor_prices = np.around(10 + np.random.uniform(0, 10, (B * T, 5)), decimals=2)\n",
    "    \n",
    "    X = np.zeros((B * T, 6))\n",
    "    Y = np.zeros(B * T)\n",
    "    for t in range(T):\n",
    "        for i in range(B):\n",
    "            index = t * B + i\n",
    "            X[index,:] = make_X(our_price[index], competitor_prices[index], t)\n",
    "            _rank = rank(our_price[index], competitor_prices[index])\n",
    "            # Y[index] = _rank == 0\n",
    "            # Y[index] = np.round(np.random.uniform(0, 1)\n",
    "            #                                   * (0.5 + 0.5 * (1 - _rank / 5))\n",
    "            #                                   * (0.5 + 0.5 * t / T))\n",
    "            Y[index] = np.round(np.random.uniform(0.5 * t / T, 1) * (1 - _rank / 5))\n",
    "\n",
    "    return (X, Y)\n",
    "\n",
    "X, Y = generate_train_data()"
   ]
  },
  {
   "cell_type": "code",
   "execution_count": null,
   "metadata": {
    "collapsed": false
   },
   "outputs": [],
   "source": [
    "# Train sales probability model\n",
    "def make_model(X, Y):\n",
    "    regr = linear_model.LogisticRegression()\n",
    "    regr.fit(X, Y)\n",
    "    def predict(x):\n",
    "        # return np.maximum(0, regr.predict(x))\n",
    "        return regr.predict_proba(x)[:, 1]\n",
    "    coef = np.concatenate((regr.intercept_.ravel(), regr.coef_.ravel()))\n",
    "    return predict, coef\n",
    "\n",
    "sales_model, sales_model_coef = make_model(X, Y)"
   ]
  },
  {
   "cell_type": "code",
   "execution_count": null,
   "metadata": {
    "collapsed": false
   },
   "outputs": [],
   "source": [
    "# Plot sales probability model\n",
    "X_test, _ = generate_train_data(1000)\n",
    "X_test = np.sort(X_test.view('f8,f8,f8,f8,f8,f8'), order=['f0', 'f4'], axis=0).view(float)\n",
    "plt.scatter(np.arange(0, X_test.shape[0]), X_test[:, 0], color='black')\n",
    "plt.plot(np.arange(0, X_test.shape[0]), sales_model(X_test), color='blue', linewidth=1)\n",
    "\n",
    "plt.show()"
   ]
  },
  {
   "cell_type": "code",
   "execution_count": null,
   "metadata": {
    "collapsed": false
   },
   "outputs": [],
   "source": [
    "def timeit(func):\n",
    "    start = time.clock()\n",
    "    func()\n",
    "    end = time.clock()\n",
    "    print(end - start, 's')\n",
    "    \n",
    "def plot(po, t, n):\n",
    "    po.run(t, n)\n",
    "    for i_n in range(1, n + 1):\n",
    "        n_data = []\n",
    "        for i_t in range(1, t + 1):\n",
    "            n_data.append(po.run(i_t, i_n)[0])\n",
    "        if i_n in [1, 2, 3, 4, 5, 10, 20, 30]:\n",
    "            label_text = \"N=\" + str(i_n)\n",
    "            plt.plot(n_data, label=label_text)\n",
    "    plt.ylabel('n')\n",
    "    plt.xlabel('t')\n",
    "    plt.legend(bbox_to_anchor=(1.05, 1), loc=2, borderaxespad=0.)\n",
    "    plt.show()\n",
    "        \n",
    "def make_price_optimizer(sales_model_coef, competitor_prices,\n",
    "               T=20, N=15, M=5,\n",
    "               price_range=np.arange(10, 20, 1), \n",
    "               L=0.01, delta=0.99, Z=0.5):\n",
    "    po = PriceOptimizer_CPP(T, N)\n",
    "    # po = PriceOptimizer_Python(sales_model_coef, competitor_prices, T, N)\n",
    "    # po.make_X = make_X\n",
    "    po.L = L\n",
    "    po.Z = Z\n",
    "    po.M = M\n",
    "    po.delta = delta\n",
    "    po.price_range = price_range\n",
    "    po.competitor_prices = competitor_prices\n",
    "    po.sales_model_coef = sales_model_coef\n",
    "    return po"
   ]
  },
  {
   "cell_type": "code",
   "execution_count": null,
   "metadata": {
    "collapsed": false
   },
   "outputs": [],
   "source": [
    "def simulation(sales_model, competitor_prices, T=20, N=15, iterations=20):\n",
    "    \n",
    "    def sales_prob(price, t):\n",
    "        x = make_X(price, competitor_prices, t).reshape(1, -1)\n",
    "        return sales_model(x)[0]\n",
    "    \n",
    "    profits = []\n",
    "    \n",
    "    L=0.01\n",
    "    Z=0.5\n",
    "    M=2\n",
    "\n",
    "    optimizer = make_price_optimizer(sales_model_coef, competitor_prices, \n",
    "                               T=T, N=N, M=M, L=L, Z=Z, price_range=np.arange(10., 20., 0.2))\n",
    "    \n",
    "    timeit(lambda: plot(optimizer, T, N))\n",
    "    \n",
    "    for i in range(iterations):\n",
    "        \n",
    "        price_history = []\n",
    "        accumulated_sales = []\n",
    "    \n",
    "        profit = 0\n",
    "        n = N\n",
    "        \n",
    "        for t in range(0, T):\n",
    "            price, V = optimizer.run(t, n)\n",
    "            pi = sales_prob(price, t)\n",
    "            sales = min(n, np.random.poisson(M * pi))\n",
    "            # sales = min(n, np.random.binomial(M, pi))\n",
    "            n = n - sales\n",
    "            profit += price * sales - L * n\n",
    "\n",
    "            price_history.append(price)\n",
    "            accumulated_sales.append(N - n)\n",
    "\n",
    "            # # Change competitor prices\n",
    "            # competitor_prices = competitor_prices * np.random.uniform(0.8, 1.2, 5)\n",
    "            # optimizer = PriceOptimizer(sales_model, competitor_prices, N=n, T=T, L=L, Z=Z)\n",
    "\n",
    "        # Realize salvage profits\n",
    "        profit += n * Z\n",
    "\n",
    "        if i < 5:\n",
    "            print(\"Estimated profit: {0}\".format(optimizer.run(0, N)[1]))\n",
    "            print(\"Simulated profit: {0}\".format(profit))\n",
    "            \n",
    "            plt.plot(price_history)    \n",
    "            plt.ylabel('Price Path')\n",
    "            plt.show()\n",
    "\n",
    "            plt.plot(accumulated_sales)    \n",
    "            plt.ylabel('Accumulated Sales')\n",
    "            plt.show()\n",
    "        \n",
    "        profits.append(profit)\n",
    "\n",
    "    return profits\n",
    "\n",
    "# competitor_prices_simulation = 16 + np.random.uniform(0, 4, 5)\n",
    "# simulation(sales_model, competitor_prices_simulation)"
   ]
  },
  {
   "cell_type": "code",
   "execution_count": null,
   "metadata": {
    "collapsed": false,
    "scrolled": true
   },
   "outputs": [],
   "source": [
    "# competitor_prices = np.around(10 + np.random.uniform(0, 10, 5), decimals=2)\n",
    "competitor_prices = np.array([11., 13., 14., 16., 18.])\n",
    "print(competitor_prices)\n",
    "profits = simulation(sales_model, competitor_prices, T=100, N=100, iterations=1000)\n",
    "    \n",
    "n, bins, patches = plt.hist(profits, 10, normed=1, facecolor='green', alpha=0.75)\n",
    "\n",
    "plt.xlabel('Profit')\n",
    "plt.ylabel('Probability')\n",
    "plt.show()"
   ]
  },
  {
   "cell_type": "code",
   "execution_count": null,
   "metadata": {
    "collapsed": true
   },
   "outputs": [],
   "source": []
  }
 ],
 "metadata": {
  "kernelspec": {
   "display_name": "Python 3",
   "language": "python",
   "name": "python3"
  },
  "language_info": {
   "codemirror_mode": {
    "name": "ipython",
    "version": 3
   },
   "file_extension": ".py",
   "mimetype": "text/x-python",
   "name": "python",
   "nbconvert_exporter": "python",
   "pygments_lexer": "ipython3",
   "version": "3.5.1"
  }
 },
 "nbformat": 4,
 "nbformat_minor": 0
}
