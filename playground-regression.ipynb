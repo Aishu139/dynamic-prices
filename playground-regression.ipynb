{
 "cells": [
  {
   "cell_type": "code",
   "execution_count": 1,
   "metadata": {
    "collapsed": false
   },
   "outputs": [],
   "source": [
    "%matplotlib inline\n",
    "import matplotlib\n",
    "import numpy as np\n",
    "import matplotlib.pyplot as plt\n",
    "from sklearn import linear_model\n",
    "from sklearn import svm\n",
    "from scipy.stats import poisson, binom"
   ]
  },
  {
   "cell_type": "code",
   "execution_count": 11,
   "metadata": {
    "collapsed": false
   },
   "outputs": [],
   "source": [
    "# Generate training data for sales probability regression\n",
    "def rank(a, p):\n",
    "    _rank = p.shape[0]\n",
    "    for i in range(p.shape[0]):\n",
    "        if a < p[i]:\n",
    "            _rank = _rank - 1\n",
    "    return _rank\n",
    "\n",
    "def make_X(price, competitor_prices, t):\n",
    "    return np.array([\n",
    "            1,\n",
    "            rank(price, competitor_prices),\n",
    "            price - competitor_prices.min(),\n",
    "            competitor_prices.size,\n",
    "            (price + np.sum(competitor_prices)) / (1 + competitor_prices.size),\n",
    "            t,\n",
    "            t * t\n",
    "        ])\n",
    "\n",
    "def generate_train_data(B=1000, T=30):\n",
    "    our_price = np.around(10 + np.random.uniform(0, 10, (B * T, 1)), decimals=2)\n",
    "    competitor_prices = np.around(10 + np.random.uniform(0, 10, (B * T, 5)), decimals=2)\n",
    "    \n",
    "    X = np.zeros((B * T, 7))\n",
    "    Y = np.zeros(B * T)\n",
    "    for t in range(T):\n",
    "        for i in range(B):\n",
    "            index = t * B + i\n",
    "            X[index,:] = make_X(our_price[index], competitor_prices[index], t)\n",
    "            _rank = rank(our_price[index], competitor_prices[index])\n",
    "            # Y[index] = _rank == 0\n",
    "            # Y[index] = np.round(np.random.uniform(0, 1)\n",
    "            #                                   * (0.5 + 0.5 * (1 - _rank / 5))\n",
    "            #                                   * (0.5 + 0.5 * t / T))\n",
    "            Y[index] = np.round(np.random.uniform( t / (2 * T), 1) * (1 - _rank / 5))\n",
    "\n",
    "    return (X, Y)\n",
    "\n",
    "X, Y = generate_train_data()"
   ]
  },
  {
   "cell_type": "code",
   "execution_count": 12,
   "metadata": {
    "collapsed": false
   },
   "outputs": [],
   "source": [
    "# Train sales probability model\n",
    "def make_model(X, Y):\n",
    "    regr = linear_model.LogisticRegression()\n",
    "    regr.fit(X, Y)\n",
    "    def predict(x):\n",
    "        # return np.maximum(0, regr.predict(x))\n",
    "        return regr.predict_proba(x)[:, 1]\n",
    "    return predict, regr.coef_\n",
    "\n",
    "sales_model, sales_model_coef = make_model(X, Y)"
   ]
  },
  {
   "cell_type": "code",
   "execution_count": 13,
   "metadata": {
    "collapsed": false
   },
   "outputs": [
    {
     "data": {
      "image/png": "[encoded data removed]",
      "text/plain": [
       "<matplotlib.figure.Figure at 0x107105860>"
      ]
     },
     "metadata": {},
     "output_type": "display_data"
    }
   ],
   "source": [
    "# Plot sales probability model\n",
    "X_train, _ = generate_train_data(1000)\n",
    "X_sort = np.sort(X_train.view('f8,f8,f8,f8,f8,f8,f8'), order=['f1', 'f5'], axis=0).view(float)\n",
    "plt.scatter(np.arange(0, X_sort.shape[0]), X_sort[:, 1], color='black')\n",
    "plt.plot(np.arange(0, X_sort.shape[0]), sales_model(X_sort), color='blue', linewidth=1)\n",
    "\n",
    "plt.show()"
   ]
  },
  {
   "cell_type": "code",
   "execution_count": 14,
   "metadata": {
    "collapsed": false
   },
   "outputs": [],
   "source": [
    "def sales_prob(price, t, options):\n",
    "    x = make_X(price, competitor_prices, t).reshape(1, -1)\n",
    "    return options.sales_model(x)[0]\n",
    "\n",
    "\n",
    "def _V(price, t, n, options):\n",
    "    p = sales_prob(price, t, options)\n",
    "    _sum = 0\n",
    "    for i in range(int(poisson.ppf(0.9999, options.M * p)) + 1):\n",
    "    # for i in range(int(binom.ppf(0.9999, options.M, p)) + 1):\n",
    "        if i > n:\n",
    "            return 0\n",
    "        pi = poisson.pmf(i, options.M * p)\n",
    "        # pi = binom.pmf(i, options.M, p)\n",
    "        today_profit = min(n, i) * price\n",
    "        holding_costs = n * options.L\n",
    "        _, V_future = V(t + 1, max(0, n - i), options)\n",
    "        exp_future_profits = options.delta * V_future\n",
    "        _sum += pi * (today_profit - holding_costs + exp_future_profits)\n",
    "    return _sum\n",
    "\n",
    "def V(t, n, options):\n",
    "    if (t,n) in options.cache:\n",
    "        return options.cache[t,n]\n",
    "    if t >= options.T:\n",
    "        options.cache[t,n] = (0, n * options.Z)\n",
    "        return (0, n * options.Z)\n",
    "    if n <= 0:\n",
    "        options.cache[t,n] = (0, 0)\n",
    "        return (0, 0)\n",
    "\n",
    "    V_opt = -100000\n",
    "    price_opt = -100000\n",
    "    for price in options.price_range:\n",
    "        v = _V(price, t, n, options)\n",
    "        if v > V_opt:\n",
    "            V_opt = v\n",
    "            price_opt = price\n",
    "            \n",
    "    options.cache[t,n] = (price_opt, V_opt)\n",
    "    return (price_opt, V_opt)\n",
    "\n",
    "\n",
    "class PriceOptimizer():\n",
    "    def __init__(self, sales_model, competitor_prices,\n",
    "               T=20, N=15, M=5,\n",
    "               price_range=np.arange(10, 20, 1), \n",
    "               L=0.01, delta=0.99, Z=0.5):\n",
    "        self.sales_model = sales_model\n",
    "        self.competitor_prices = competitor_prices\n",
    "        self.T = T # max. time intervals\n",
    "        self.N = N # max. items\n",
    "        self.M = M # reference items sold per interval\n",
    "        self.price_range = price_range # acceptable price range\n",
    "        self.L = L # holding cost per item\n",
    "        self.delta = delta # discount factor for future sales\n",
    "        self.Z = Z # salvage profits\n",
    "        self.cache = {}\n",
    "\n",
    "    def run(self, t, n):\n",
    "        if len(self.cache) == 0:\n",
    "            res = V(t, n, self)\n",
    "            for i_n in range(1, self.N + 1):\n",
    "                n_data = []\n",
    "                for i_t in range(1, self.T + 1):\n",
    "                    if(i_t, i_n) in self.cache:\n",
    "                        n_data.append(self.cache[i_t, i_n][0])\n",
    "                    else:\n",
    "                        n_data.append(None)\n",
    "                if i_n in [1, 2, 3, 4, 5, 10, 20, 30]:\n",
    "                    label_text = \"N=\" + str(i_n)\n",
    "                    plt.plot(n_data, label=label_text)    \n",
    "            plt.ylabel('n')\n",
    "            plt.xlabel('t')\n",
    "            plt.legend(bbox_to_anchor=(1.05, 1), loc=2, borderaxespad=0.)\n",
    "            plt.show()       \n",
    "            return res\n",
    "        else:\n",
    "            return V(t, n, self)"
   ]
  },
  {
   "cell_type": "code",
   "execution_count": 15,
   "metadata": {
    "collapsed": false
   },
   "outputs": [],
   "source": [
    "def simulation(sales_model, competitor_prices, T=20, N=15):\n",
    "    \n",
    "    def sales_prob(price, t):\n",
    "        x = make_X(price, competitor_prices, t).reshape(1, -1)\n",
    "        return sales_model(x)[0]\n",
    "   \n",
    "    price_history = []\n",
    "    accumulated_sales = []\n",
    "    \n",
    "    profit = 0\n",
    "    n = N\n",
    "    L=0.01\n",
    "    Z=0.5\n",
    "    M=2\n",
    "\n",
    "    optimizer = PriceOptimizer(sales_model, competitor_prices, \n",
    "                               N=N, T=T, L=L, Z=Z, M=M, price_range=np.arange(10, 20, 0.2))\n",
    "    \n",
    "    for t in range(0, T):\n",
    "        price, V = optimizer.run(t, n)\n",
    "        pi = sales_prob(price, t)\n",
    "        sales = min(n, np.random.poisson(M * pi))\n",
    "        # sales = min(n, np.random.binomial(M, pi))\n",
    "        n = n - sales\n",
    "        profit += price * sales - L * n\n",
    "        \n",
    "        price_history.append(price)\n",
    "        accumulated_sales.append(N - n)\n",
    "        \n",
    "        # # Change competitor prices\n",
    "        # competitor_prices = competitor_prices * np.random.uniform(0.8, 1.2, 5)\n",
    "        # optimizer = PriceOptimizer(sales_model, competitor_prices, N=n, T=T, L=L, Z=Z)\n",
    "    \n",
    "    # Realize salvage profits\n",
    "    profit += n * Z\n",
    "    print(\"Estimated profit: {0}\".format(optimizer.run(0, N)[1]))\n",
    "    print(\"Simulated profit: {0}\".format(profit))\n",
    "    \n",
    "    plt.plot(price_history)    \n",
    "    plt.ylabel('Price Path')\n",
    "    plt.show()\n",
    "    \n",
    "    plt.plot(accumulated_sales)    \n",
    "    plt.ylabel('Accumulated Sales')\n",
    "    plt.show()\n",
    "\n",
    "    return profit\n",
    "\n",
    "# competitor_prices_simulation = 16 + np.random.uniform(0, 4, 5)\n",
    "# simulation(sales_model, competitor_prices_simulation)"
   ]
  },
  {
   "cell_type": "code",
   "execution_count": null,
   "metadata": {
    "collapsed": false,
    "scrolled": true
   },
   "outputs": [
    {
     "name": "stdout",
     "output_type": "stream",
     "text": [
      "[11 13 14 16 18]\n"
     ]
    },
    {
     "data": {
      "image/png": "[encoded data removed]",
      "text/plain": [
       "<matplotlib.figure.Figure at 0x1071bfbe0>"
      ]
     },
     "metadata": {},
     "output_type": "display_data"
    },
    {
     "name": "stdout",
     "output_type": "stream",
     "text": [
      "Estimated profit: 288.77338423260886\n",
      "Simulated profit: 328.40999999999997\n"
     ]
    },
    {
     "data": {
      "image/png": "[encoded data removed]",
      "text/plain": [
       "<matplotlib.figure.Figure at 0x107636828>"
      ]
     },
     "metadata": {},
     "output_type": "display_data"
    },
    {
     "data": {
      "image/png": "[encoded data removed]",
      "text/plain": [
       "<matplotlib.figure.Figure at 0x1076e5860>"
      ]
     },
     "metadata": {},
     "output_type": "display_data"
    }
   ],
   "source": [
    "# competitor_prices = np.around(10 + np.random.uniform(0, 10, 5), decimals=2)\n",
    "competitor_prices = np.array([11, 13, 14, 16, 18])\n",
    "print(competitor_prices)\n",
    "profits = [simulation(sales_model, competitor_prices, T=30, N=30) for i in range(0, 10)]\n",
    "    \n",
    "n, bins, patches = plt.hist(profits, 10, normed=1, facecolor='green', alpha=0.75)\n",
    "\n",
    "plt.xlabel('Profit')\n",
    "plt.ylabel('Probability')\n",
    "plt.show()"
   ]
  },
  {
   "cell_type": "code",
   "execution_count": null,
   "metadata": {
    "collapsed": true
   },
   "outputs": [],
   "source": []
  }
 ],
 "metadata": {
  "kernelspec": {
   "display_name": "Python 3",
   "language": "python",
   "name": "python3"
  },
  "language_info": {
   "codemirror_mode": {
    "name": "ipython",
    "version": 3
   },
   "file_extension": ".py",
   "mimetype": "text/x-python",
   "name": "python",
   "nbconvert_exporter": "python",
   "pygments_lexer": "ipython3",
   "version": "3.5.1"
  }
 },
 "nbformat": 4,
 "nbformat_minor": 0
}
