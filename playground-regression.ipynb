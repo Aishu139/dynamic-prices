{
 "cells": [
  {
   "cell_type": "code",
   "execution_count": 83,
   "metadata": {
    "collapsed": false
   },
   "outputs": [],
   "source": [
    "%matplotlib inline\n",
    "import matplotlib\n",
    "import numpy as np\n",
    "import matplotlib.pyplot as plt\n",
    "from sklearn.linear_model import LogisticRegression\n",
    "import functools\n",
    "from scipy.stats import poisson"
   ]
  },
  {
   "cell_type": "code",
   "execution_count": 103,
   "metadata": {
    "collapsed": false
   },
   "outputs": [
    {
     "ename": "NameError",
     "evalue": "name 'our_rank' is not defined",
     "output_type": "error",
     "traceback": [
      "\u001b[0;31m---------------------------------------------------------------------------\u001b[0m",
      "\u001b[0;31mNameError\u001b[0m                                 Traceback (most recent call last)",
      "\u001b[0;32m<ipython-input-103-3b0f1c28b999>\u001b[0m in \u001b[0;36m<module>\u001b[0;34m()\u001b[0m\n\u001b[1;32m     15\u001b[0m     \u001b[0;32mreturn\u001b[0m \u001b[0;34m(\u001b[0m\u001b[0mX\u001b[0m\u001b[0;34m,\u001b[0m \u001b[0mY\u001b[0m\u001b[0;34m)\u001b[0m\u001b[0;34m\u001b[0m\u001b[0m\n\u001b[1;32m     16\u001b[0m \u001b[0;34m\u001b[0m\u001b[0m\n\u001b[0;32m---> 17\u001b[0;31m \u001b[0mX\u001b[0m\u001b[0;34m,\u001b[0m \u001b[0mY\u001b[0m \u001b[0;34m=\u001b[0m \u001b[0mgenerate_train_data\u001b[0m\u001b[0;34m(\u001b[0m\u001b[0;34m)\u001b[0m\u001b[0;34m\u001b[0m\u001b[0m\n\u001b[0m",
      "\u001b[0;32m<ipython-input-103-3b0f1c28b999>\u001b[0m in \u001b[0;36mgenerate_train_data\u001b[0;34m(B, T)\u001b[0m\n\u001b[1;32m     11\u001b[0m     \u001b[0mcompetitor_prices\u001b[0m \u001b[0;34m=\u001b[0m \u001b[0mnp\u001b[0m\u001b[0;34m.\u001b[0m\u001b[0mrandom\u001b[0m\u001b[0;34m.\u001b[0m\u001b[0muniform\u001b[0m\u001b[0;34m(\u001b[0m\u001b[0;36m0\u001b[0m\u001b[0;34m,\u001b[0m \u001b[0;36m20\u001b[0m\u001b[0;34m,\u001b[0m \u001b[0;34m(\u001b[0m\u001b[0mB\u001b[0m\u001b[0;34m,\u001b[0m \u001b[0;36m5\u001b[0m\u001b[0;34m)\u001b[0m\u001b[0;34m)\u001b[0m\u001b[0;34m\u001b[0m\u001b[0m\n\u001b[1;32m     12\u001b[0m     \u001b[0mX\u001b[0m \u001b[0;34m=\u001b[0m \u001b[0mmake_X\u001b[0m\u001b[0;34m(\u001b[0m\u001b[0mour_price\u001b[0m\u001b[0;34m,\u001b[0m \u001b[0mcompetitor_prices\u001b[0m\u001b[0;34m)\u001b[0m\u001b[0;34m\u001b[0m\u001b[0m\n\u001b[0;32m---> 13\u001b[0;31m     \u001b[0mY\u001b[0m \u001b[0;34m=\u001b[0m \u001b[0;34m(\u001b[0m\u001b[0mour_rank\u001b[0m \u001b[0;34m==\u001b[0m \u001b[0;36m0\u001b[0m\u001b[0;34m)\u001b[0m\u001b[0;34m.\u001b[0m\u001b[0mastype\u001b[0m\u001b[0;34m(\u001b[0m\u001b[0mint\u001b[0m\u001b[0;34m)\u001b[0m\u001b[0;34m.\u001b[0m\u001b[0mravel\u001b[0m\u001b[0;34m(\u001b[0m\u001b[0;34m)\u001b[0m\u001b[0;34m\u001b[0m\u001b[0m\n\u001b[0m\u001b[1;32m     14\u001b[0m \u001b[0;34m\u001b[0m\u001b[0m\n\u001b[1;32m     15\u001b[0m     \u001b[0;32mreturn\u001b[0m \u001b[0;34m(\u001b[0m\u001b[0mX\u001b[0m\u001b[0;34m,\u001b[0m \u001b[0mY\u001b[0m\u001b[0;34m)\u001b[0m\u001b[0;34m\u001b[0m\u001b[0m\n",
      "\u001b[0;31mNameError\u001b[0m: name 'our_rank' is not defined"
     ]
    }
   ],
   "source": [
    "# Generate training data for sales probability regression\n",
    "def generate_train_data(B=1000, T=100):\n",
    "\n",
    "    def rank(a, p):\n",
    "        return np.argsort(np.hstack((a, p)))[:,0]\n",
    "    \n",
    "    our_price = np.random.uniform(0, 20, (B, 1))\n",
    "    competitor_prices = np.random.uniform(0, 20, (B, 5))\n",
    "    our_rank = np.reshape(rank(our_price, competitor_prices), (B, 1))\n",
    "    X = np.hstack((our_price, competitor_prices, our_rank))\n",
    "    Y = (our_rank == 0).astype(int).ravel()\n",
    "    \n",
    "    return (X, Y)\n",
    "\n",
    "X, Y = generate_train_data()"
   ]
  },
  {
   "cell_type": "code",
   "execution_count": 85,
   "metadata": {
    "collapsed": false
   },
   "outputs": [],
   "source": [
    "# Train sales probability model\n",
    "def make_model(X, Y):\n",
    "    regr = LogisticRegression()\n",
    "    regr.fit(X, Y)\n",
    "    def predict(x):\n",
    "        return regr.predict_proba(x)[:, 1]\n",
    "    return predict\n",
    "\n",
    "sales_model = make_model(X, Y)"
   ]
  },
  {
   "cell_type": "code",
   "execution_count": 86,
   "metadata": {
    "collapsed": false
   },
   "outputs": [
    {
     "data": {
      "image/png": "[encoded data removed]",
      "text/plain": [
       "<matplotlib.figure.Figure at 0x10ca36da0>"
      ]
     },
     "metadata": {},
     "output_type": "display_data"
    }
   ],
   "source": [
    "# Plot sales probability model\n",
    "X_sort = np.sort(X.view('f8,f8,f8,f8,f8,f8,f8'), order=['f6'], axis=0).view(float)\n",
    "plt.scatter(np.arange(0, B), X_sort[:, 6], color='black')\n",
    "plt.plot(np.arange(0, B), salesModel(X_sort), color='blue', linewidth=1)\n",
    "\n",
    "plt.show()"
   ]
  },
  {
   "cell_type": "code",
   "execution_count": 120,
   "metadata": {
    "collapsed": false
   },
   "outputs": [
    {
     "data": {
      "text/plain": [
       "(1.7000000000000002, 1.5842922780105928)"
      ]
     },
     "execution_count": 120,
     "metadata": {},
     "output_type": "execute_result"
    }
   ],
   "source": [
    "# Run Bellmann equation to calculate best price\n",
    "def optimize_price(t, sales_model, competitor_prices,\n",
    "               T=5, N=15, \n",
    "               price_range=np.arange(0.1, 20, 0.1), \n",
    "               i_range=np.arange(0, 2), \n",
    "               L=0.01, delta=0.99, Z=0.5):\n",
    "\n",
    "    \n",
    "    def rank(a, p):\n",
    "        return np.argsort(np.hstack((a, p)))[0]\n",
    "\n",
    "    def sales_prob(i, price):\n",
    "        x = np.hstack((price, competitor_prices, rank(price, competitor_prices))).reshape(1, -1)\n",
    "        return poisson.pmf(i, sales_model(x))\n",
    "\n",
    "\n",
    "    @functools.lru_cache(maxsize=None)\n",
    "    def _V(price, t, n):\n",
    "        def mapper(i):\n",
    "            if i > n:\n",
    "                return 0\n",
    "            pi = sales_prob(i, price)\n",
    "            today_profit = min(n, i) * price\n",
    "            holding_costs = n * L\n",
    "            V_future, _ = V(t + 1, max(0, n - i))\n",
    "            exp_future_profits = delta * V_future\n",
    "            return pi * (today_profit - holding_costs + exp_future_profits)\n",
    "        return sum([mapper(i) for i in i_range])\n",
    "\n",
    "    def V(t, n):\n",
    "        if t >= T:\n",
    "            return (n * Z, 0)\n",
    "        if n <= 0:\n",
    "            return (0, 0)\n",
    "\n",
    "        V_values = np.zeros(price_range.shape)\n",
    "        for i, price in enumerate(price_range):\n",
    "            v = _V(price, t, n)\n",
    "            V_values[i] = v \n",
    "\n",
    "        V_opt = np.max(V_values)\n",
    "        price_opt = price_range[np.argmax(V_values)]\n",
    "        return (price_opt, V_opt)\n",
    "    \n",
    "    return V(t, N)\n",
    "\n",
    "optimize_price(0, sales_model, np.random.uniform(0, 20, 5))"
   ]
  },
  {
   "cell_type": "code",
   "execution_count": null,
   "metadata": {
    "collapsed": false
   },
   "outputs": [
    {
     "name": "stdout",
     "output_type": "stream",
     "text": [
      "0 15 3.0 [  3.70063719   3.05945302   8.73289429  12.51829413  13.99064079] 0\n"
     ]
    }
   ],
   "source": [
    "def simulation(sales_model, T=20, N=15):\n",
    "    competitor_prices = np.random.uniform(0, 20, 5)\n",
    "    n = N\n",
    "    \n",
    "    def rank(a, p):\n",
    "        return np.argsort(np.hstack((a, p)))[0]\n",
    "    \n",
    "    def sales_prob(price):\n",
    "        x = np.hstack((price, competitor_prices, rank(price, competitor_prices))).reshape(1, -1)\n",
    "        return sales_model(x)\n",
    "        \n",
    "    for t in range(0, T):\n",
    "        price, _ = optimize_price(t, sales_model, competitor_prices, N=n, T=T)\n",
    "        pi = sales_prob(price)\n",
    "        n = max(0, n - np.random.poisson(pi))\n",
    "        print(t, n, price, competitor_prices, rank(price, competitor_prices))\n",
    "        competitor_prices = competitor_prices * np.random.uniform(0.8, 1.2, 5)\n",
    "        \n",
    "            \n",
    "simulation(sales_model)"
   ]
  },
  {
   "cell_type": "code",
   "execution_count": null,
   "metadata": {
    "collapsed": true
   },
   "outputs": [],
   "source": []
  }
 ],
 "metadata": {
  "kernelspec": {
   "display_name": "Python 3",
   "language": "python",
   "name": "python3"
  },
  "language_info": {
   "codemirror_mode": {
    "name": "ipython",
    "version": 3
   },
   "file_extension": ".py",
   "mimetype": "text/x-python",
   "name": "python",
   "nbconvert_exporter": "python",
   "pygments_lexer": "ipython3",
   "version": "3.5.1"
  }
 },
 "nbformat": 4,
 "nbformat_minor": 0
}
