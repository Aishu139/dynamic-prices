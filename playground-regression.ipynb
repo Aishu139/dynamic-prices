{
 "cells": [
  {
   "cell_type": "code",
   "execution_count": 108,
   "metadata": {
    "collapsed": false
   },
   "outputs": [],
   "source": [
    "%matplotlib inline\n",
    "import matplotlib\n",
    "import numpy as np\n",
    "import matplotlib.pyplot as plt\n",
    "from sklearn.linear_model import LogisticRegression\n",
    "from sklearn import svm\n",
    "import functools\n",
    "from scipy.stats import poisson"
   ]
  },
  {
   "cell_type": "code",
   "execution_count": 109,
   "metadata": {
    "collapsed": false
   },
   "outputs": [],
   "source": [
    "# Generate training data for sales probability regression\n",
    "def generate_train_data(B=1000, T=100):\n",
    "\n",
    "    def rank(a, p):\n",
    "        return np.argsort(np.hstack((a, p)))[:,0]\n",
    "    \n",
    "    our_price = np.random.uniform(0, 20, (B, 1))\n",
    "    competitor_prices = np.random.uniform(0, 20, (B, 5))\n",
    "    our_rank = np.reshape(rank(our_price, competitor_prices), (B, 1))\n",
    "    X = np.hstack((our_price, competitor_prices, our_rank))\n",
    "    \n",
    "    # Y = (our_rank == 0).astype(int).ravel()\n",
    "    # Y = np.maximum(0, (3 - our_rank)).astype(int).ravel()\n",
    "    Y = np.round(np.random.uniform(0, 1, our_rank.shape) * (1 - our_rank / 11)).ravel()\n",
    "    \n",
    "    return (X, Y)\n",
    "\n",
    "X, Y = generate_train_data()"
   ]
  },
  {
   "cell_type": "code",
   "execution_count": 110,
   "metadata": {
    "collapsed": false
   },
   "outputs": [],
   "source": [
    "# Train sales probability model\n",
    "def make_model(X, Y):\n",
    "    regr = LogisticRegression()\n",
    "    regr.fit(X, Y)\n",
    "    def predict(x):\n",
    "        return regr.predict_proba(x)[:, 1]\n",
    "    return predict\n",
    "\n",
    "sales_model = make_model(X, Y)"
   ]
  },
  {
   "cell_type": "code",
   "execution_count": 111,
   "metadata": {
    "collapsed": false
   },
   "outputs": [
    {
     "data": {
      "image/png": "[encoded data removed]",
      "text/plain": [
       "<matplotlib.figure.Figure at 0x109586f28>"
      ]
     },
     "metadata": {},
     "output_type": "display_data"
    }
   ],
   "source": [
    "# Plot sales probability model\n",
    "X_train, _ = generate_train_data(1000)\n",
    "X_sort = np.sort(X_train.view('f8,f8,f8,f8,f8,f8,f8'), order=['f6'], axis=0).view(float)\n",
    "plt.scatter(np.arange(0, X_sort.shape[0]), X_sort[:, 6], color='black')\n",
    "plt.plot(np.arange(0, X_sort.shape[0]), sales_model(X_sort), color='blue', linewidth=1)\n",
    "\n",
    "plt.show()"
   ]
  },
  {
   "cell_type": "code",
   "execution_count": 112,
   "metadata": {
    "collapsed": false
   },
   "outputs": [
    {
     "data": {
      "text/plain": [
       "(16.900000000000002, 21.394715842297551)"
      ]
     },
     "execution_count": 112,
     "metadata": {},
     "output_type": "execute_result"
    }
   ],
   "source": [
    "# Run Bellmann equation to calculate best price\n",
    "def optimize_price(t, sales_model, competitor_prices,\n",
    "               T=5, N=15, \n",
    "               price_range=np.arange(0.1, 20, 0.1), \n",
    "               L=0.01, delta=0.99, Z=0.5):\n",
    "\n",
    "    def rank(a, p):\n",
    "        order = np.argsort(np.hstack((a, p)))\n",
    "        ranks = np.argsort(order)\n",
    "        return ranks[0]\n",
    "\n",
    "    @functools.lru_cache(maxsize=None)\n",
    "    def sales_prob(price):\n",
    "        x = np.hstack((price, competitor_prices, rank(price, competitor_prices))).reshape(1, -1)\n",
    "        return sales_model(x)[0]\n",
    "\n",
    "\n",
    "    @functools.lru_cache(maxsize=None)\n",
    "    def _V(price, t, n):\n",
    "        p = sales_prob(price)\n",
    "        def mapper(i):\n",
    "            if i > n:\n",
    "                return 0\n",
    "            pi = p if i == 1 else 1 - p\n",
    "            # pi = poisson.pmf(i, p)\n",
    "            today_profit = min(n, i) * price\n",
    "            holding_costs = n * L\n",
    "            V_future, _ = V(t + 1, max(0, n - i))\n",
    "            exp_future_profits = delta * V_future\n",
    "            return pi * (today_profit - holding_costs + exp_future_profits)\n",
    "        # i_range = range(0, int(poisson.ppf(0.9999, p)) + 1)\n",
    "        i_range = [0, 1]\n",
    "        return sum([mapper(i) for i in i_range])\n",
    "\n",
    "    def V(t, n):\n",
    "        if t >= T:\n",
    "            return (n * Z, 0)\n",
    "        if n <= 0:\n",
    "            return (0, 0)\n",
    "\n",
    "        V_values = np.zeros(price_range.shape)\n",
    "        for i, price in enumerate(price_range):\n",
    "            v = _V(price, t, n)\n",
    "            V_values[i] = v \n",
    "\n",
    "        V_opt = np.max(V_values)\n",
    "        price_opt = price_range[np.argmax(V_values)]\n",
    "        return (price_opt, V_opt)\n",
    "    \n",
    "    return V(t, N)\n",
    "\n",
    "optimize_price(0, sales_model, np.random.uniform(0, 20, 5))"
   ]
  },
  {
   "cell_type": "code",
   "execution_count": 113,
   "metadata": {
    "collapsed": false
   },
   "outputs": [
    {
     "name": "stdout",
     "output_type": "stream",
     "text": [
      "0 15 16.9 0.364636647938 [  5.85791699  11.75453283   0.72879756  19.3879325   16.99847497] 3\n",
      "1 14 18.4 0.378931773149 [  4.95439619  13.60973079   0.64459785  18.41408412  18.60105825] 3\n",
      "2 14 16.3 0.355606588754 [  4.90890102  12.75478207   0.6651805   21.47053628  16.30270175] 3\n",
      "3 11 15.1 0.452505345143 [  5.33190047  15.19659194   0.53524592  24.00551551  18.14808747] 2\n",
      "4 9 15.9 0.453388593346 [  5.25709696  15.99157766   0.5968029   25.75346327  17.58423607] 2\n",
      "5 9 16.6 0.447393509051 [  4.3406852   18.60012934   0.54794183  26.59239926  16.62316433] 2\n",
      "6 9 17.3 0.452496346151 [  4.96410828  21.93581007   0.47661708  26.92258777  17.34170049] 2\n",
      "7 8 18.1 0.456485762095 [  4.85244547  25.46163719   0.4526646   25.32890436  18.14862866] 2\n",
      "8 8 17.8 0.451704539762 [  4.18716891  26.81663723   0.51139183  30.07341304  17.86208476] 2\n",
      "9 8 19.9 0.491359337739 [  3.85092071  22.53341943   0.43548742  27.59389914  21.30899717] 2\n",
      "10 7 19.9 0.490479053282 [  4.06568124  26.76304732   0.41883622  32.69797167  21.78565817] 2\n",
      "11 7 19.9 0.509165416556 [  4.1391048   23.84624253   0.41854729  35.57915219  23.89801356] 2\n",
      "12 4 19.9 0.51757187285 [  3.73282059  22.53054225   0.48294021  36.2108248   25.03436692] 2\n",
      "13 3 19.9 0.518160771305 [  3.06386278  23.41391787   0.49688898  33.17827498  25.72031386] 2\n",
      "14 1 19.9 0.533445131635 [  2.88190797  20.67978534   0.52115786  29.33300641  27.87489295] 2\n",
      "15 0 19.9 0.507945699991 [  2.42598256  22.56049802   0.56649328  26.94171762  24.469768  ] 2\n",
      "16 0 0 0.580443314247 [  2.01802334  22.22551829   0.54089873  29.06427739  24.81869324] 0\n",
      "17 0 0 0.582319024578 [  2.08942192  24.20146937   0.44125435  26.81876095  25.69752473] 0\n",
      "18 0 0 0.588677718456 [  1.82304951  27.51137388   0.48601081  22.45983537  27.97197719] 0\n",
      "19 0 0 0.57703571357 [  1.52756705  30.0839641    0.47367379  19.1711165   26.94147511] 0\n"
     ]
    }
   ],
   "source": [
    "def simulation(sales_model, T=20, N=15):\n",
    "    competitor_prices = np.random.uniform(0, 20, 5)\n",
    "    n = N\n",
    "    \n",
    "    def rank(a, p):\n",
    "        order = np.argsort(np.hstack((a, p)))\n",
    "        ranks = np.argsort(order)\n",
    "        return ranks[0]\n",
    "    \n",
    "    def sales_prob(price):\n",
    "        x = np.hstack((price, competitor_prices, rank(price, competitor_prices))).reshape(1, -1)\n",
    "        return sales_model(x)[0]\n",
    "        \n",
    "    for t in range(0, T):\n",
    "        price, _ = optimize_price(t, sales_model, competitor_prices, N=n, T=T)\n",
    "        pi = sales_prob(price)\n",
    "        n = max(0, n - np.random.poisson(pi))\n",
    "        print(t, n, price, pi, competitor_prices, rank(price, competitor_prices))\n",
    "        competitor_prices = competitor_prices * np.random.uniform(0.8, 1.2, 5)\n",
    "        \n",
    "            \n",
    "simulation(sales_model)"
   ]
  },
  {
   "cell_type": "code",
   "execution_count": null,
   "metadata": {
    "collapsed": true
   },
   "outputs": [],
   "source": []
  }
 ],
 "metadata": {
  "kernelspec": {
   "display_name": "Python 3",
   "language": "python",
   "name": "python3"
  },
  "language_info": {
   "codemirror_mode": {
    "name": "ipython",
    "version": 3
   },
   "file_extension": ".py",
   "mimetype": "text/x-python",
   "name": "python",
   "nbconvert_exporter": "python",
   "pygments_lexer": "ipython3",
   "version": "3.5.1"
  }
 },
 "nbformat": 4,
 "nbformat_minor": 0
}
